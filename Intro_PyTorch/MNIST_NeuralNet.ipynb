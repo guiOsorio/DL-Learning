{
 "cells": [
  {
   "cell_type": "code",
   "execution_count": 27,
   "id": "ab8c50b1",
   "metadata": {},
   "outputs": [
    {
     "data": {
      "text/plain": [
       "device(type='cpu')"
      ]
     },
     "execution_count": 27,
     "metadata": {},
     "output_type": "execute_result"
    }
   ],
   "source": [
    "import torch\n",
    "import torch.nn as nn\n",
    "import torchvision.datasets as datasets\n",
    "from torchvision.transforms import transforms\n",
    "import matplotlib.pyplot as plt\n",
    "\n",
    "device = torch.device('cuda' if torch.cuda.is_available() else 'cpu')\n",
    "device"
   ]
  },
  {
   "cell_type": "code",
   "execution_count": 28,
   "id": "6c6304de",
   "metadata": {},
   "outputs": [
    {
     "name": "stdout",
     "output_type": "stream",
     "text": [
      "torch.Size([100, 1, 28, 28])\n",
      "torch.Size([100])\n"
     ]
    }
   ],
   "source": [
    "# Train dataset\n",
    "mnist_trainset = datasets.MNIST(root='./data', train=True, download=True, transform=transforms.ToTensor())\n",
    "# Test dataset\n",
    "mnist_testset = datasets.MNIST(root='./data', train=False, download=True, transform=transforms.ToTensor())\n",
    "\n",
    "# Network variables\n",
    "input_size = 28*28\n",
    "batch_size = 100\n",
    "h_size = 500\n",
    "n_classes = 10\n",
    "lr = 0.001\n",
    "\n",
    "# Train dataloader\n",
    "mnist_trainloader = torch.utils.data.DataLoader(dataset=mnist_trainset, shuffle=True, batch_size=batch_size)\n",
    "# Test dataloader\n",
    "mnist_testloader = torch.utils.data.DataLoader(dataset=mnist_testset, shuffle=False, batch_size=batch_size)\n",
    "\n",
    "testing_loader = iter(mnist_trainloader)\n",
    "curr_batch, labels = next(testing_loader)\n",
    "print(curr_batch.shape)\n",
    "print(labels.shape)"
   ]
  },
  {
   "cell_type": "code",
   "execution_count": 35,
   "id": "b5ddfbb9",
   "metadata": {},
   "outputs": [
    {
     "data": {
      "image/png": "[encoded data removed]",
      "text/plain": [
       "<Figure size 432x288 with 6 Axes>"
      ]
     },
     "metadata": {
      "needs_background": "light"
     },
     "output_type": "display_data"
    }
   ],
   "source": [
    "# Show some digits from the MNIST dataset\n",
    "for i in range(6):\n",
    "    plt.subplot(2,3,i+1)\n",
    "    plt.imshow(curr_batch[i][0], cmap='gray')\n",
    "plt.show()"
   ]
  },
  {
   "cell_type": "code",
   "execution_count": 36,
   "id": "dbb5fe05",
   "metadata": {},
   "outputs": [],
   "source": [
    "class NeuralNet(nn.Module):\n",
    "    def __init__(self, input_size, h_size, n_classes):\n",
    "        super(NeuralNet, self).__init__()\n",
    "        self.input_size = input_size\n",
    "        self.lin1 = nn.Linear(input_size, h_size)\n",
    "        self.relu = nn.ReLU()\n",
    "        self.lin2 = nn.Linear(h_size, n_classes)\n",
    "        \n",
    "    def forward(self, x):\n",
    "        out = self.lin1(x)\n",
    "        out = self.relu(out)\n",
    "        out = self.lin2(out)\n",
    "        return out\n",
    "    \n",
    "model = NeuralNet(input_size, h_size, n_classes).to(device)\n",
    "\n",
    "criterion = nn.CrossEntropyLoss()\n",
    "opt = torch.optim.Adam(model.parameters(), lr=lr)"
   ]
  },
  {
   "cell_type": "code",
   "execution_count": 38,
   "id": "e9075cb0",
   "metadata": {},
   "outputs": [
    {
     "name": "stdout",
     "output_type": "stream",
     "text": [
      "epoch: 0 / 2\n",
      "step: 100 / 600\n",
      "loss: 0.392948716878891\n",
      "----\n",
      "epoch: 0 / 2\n",
      "step: 200 / 600\n",
      "loss: 0.26778653264045715\n",
      "----\n",
      "epoch: 0 / 2\n",
      "step: 300 / 600\n",
      "loss: 0.22186681628227234\n",
      "----\n",
      "epoch: 0 / 2\n",
      "step: 400 / 600\n",
      "loss: 0.41183632612228394\n",
      "----\n",
      "epoch: 0 / 2\n",
      "step: 500 / 600\n",
      "loss: 0.22210483253002167\n",
      "----\n",
      "epoch: 0 / 2\n",
      "step: 600 / 600\n",
      "loss: 0.2888299226760864\n",
      "----\n",
      "epoch: 1 / 2\n",
      "step: 100 / 600\n",
      "loss: 0.2237374484539032\n",
      "----\n",
      "epoch: 1 / 2\n",
      "step: 200 / 600\n",
      "loss: 0.1204596608877182\n",
      "----\n",
      "epoch: 1 / 2\n",
      "step: 300 / 600\n",
      "loss: 0.1648293435573578\n",
      "----\n",
      "epoch: 1 / 2\n",
      "step: 400 / 600\n",
      "loss: 0.16831018030643463\n",
      "----\n",
      "epoch: 1 / 2\n",
      "step: 500 / 600\n",
      "loss: 0.19494780898094177\n",
      "----\n",
      "epoch: 1 / 2\n",
      "step: 600 / 600\n",
      "loss: 0.09027978032827377\n",
      "----\n",
      "accuracy: 95.27\n"
     ]
    }
   ],
   "source": [
    "n_epochs = 2\n",
    "n_total_steps = len(mnist_trainloader)\n",
    "\n",
    "# training\n",
    "for epoch in range(n_epochs):\n",
    "    for i, (features, labels) in enumerate(mnist_trainloader):\n",
    "        # push features and labels to device\n",
    "        features = features.reshape(-1, 28*28).to(device) # turn features batch from (1000,1,28,28) -> (1000, 784)\n",
    "        labels = labels.to(device)\n",
    "        \n",
    "        # calculate predicted outputs and loss (forward pass)\n",
    "        outputs = model(features)\n",
    "        loss = criterion(outputs, labels)\n",
    "        \n",
    "        # calculate gradients and make update (backwards pass)\n",
    "        opt.zero_grad()\n",
    "        loss.backward() # calculate gradients\n",
    "        opt.step() # make update\n",
    "        \n",
    "        if (i+1) % 100 == 0:\n",
    "            print(f'epoch: {epoch} / {n_epochs}')\n",
    "            print(f'step: {i+1} / {n_total_steps}')\n",
    "            print(f'loss: {loss}')\n",
    "            print('----')\n",
    "        \n",
    "# testing\n",
    "with torch.no_grad():\n",
    "    n_correct = 0\n",
    "    n_samples = 0\n",
    "    for features, labels in mnist_testloader:\n",
    "        features = features.reshape(-1, 28*28).to(device)\n",
    "        labels = labels.to(device)\n",
    "        outs = model(features)\n",
    "        \n",
    "        _, preds = torch.max(outs, 1)\n",
    "        n_samples += labels.shape[0]\n",
    "        n_correct += (preds == labels).sum().item()\n",
    "    \n",
    "    acc = 100 * n_correct / n_samples\n",
    "    print(f'accuracy: {acc}')"
   ]
  }
 ],
 "metadata": {
  "kernelspec": {
   "display_name": "Python 3 (ipykernel)",
   "language": "python",
   "name": "python3"
  },
  "language_info": {
   "codemirror_mode": {
    "name": "ipython",
    "version": 3
   },
   "file_extension": ".py",
   "mimetype": "text/x-python",
   "name": "python",
   "nbconvert_exporter": "python",
   "pygments_lexer": "ipython3",
   "version": "3.9.12"
  }
 },
 "nbformat": 4,
 "nbformat_minor": 5
}
