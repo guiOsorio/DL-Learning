{
 "cells": [
  {
   "cell_type": "code",
   "execution_count": 1,
   "id": "a00029ac",
   "metadata": {},
   "outputs": [],
   "source": [
    "# Build perceptron binary model in simple dataset (based on the decision of accepting a tennis lesson or not)\n",
    "# Train it using perceptron rule\n",
    "\n",
    "import numpy as np\n",
    "import pandas as pd"
   ]
  },
  {
   "cell_type": "markdown",
   "id": "15ea4c9f",
   "metadata": {},
   "source": [
    "## DATA PREPARATION"
   ]
  },
  {
   "cell_type": "code",
   "execution_count": 2,
   "id": "1916615d",
   "metadata": {},
   "outputs": [],
   "source": [
    "data = pd.read_csv('Perceptron_data.csv')"
   ]
  },
  {
   "cell_type": "code",
   "execution_count": 3,
   "id": "131ec266",
   "metadata": {},
   "outputs": [
    {
     "data": {
      "text/html": [
       "<div>\n",
       "<style scoped>\n",
       "    .dataframe tbody tr th:only-of-type {\n",
       "        vertical-align: middle;\n",
       "    }\n",
       "\n",
       "    .dataframe tbody tr th {\n",
       "        vertical-align: top;\n",
       "    }\n",
       "\n",
       "    .dataframe thead th {\n",
       "        text-align: right;\n",
       "    }\n",
       "</style>\n",
       "<table border=\"1\" class=\"dataframe\">\n",
       "  <thead>\n",
       "    <tr style=\"text-align: right;\">\n",
       "      <th></th>\n",
       "      <th>Far_10miles</th>\n",
       "      <th>New_client</th>\n",
       "      <th>Parent_involved</th>\n",
       "      <th>Lesson_accepted</th>\n",
       "    </tr>\n",
       "  </thead>\n",
       "  <tbody>\n",
       "    <tr>\n",
       "      <th>0</th>\n",
       "      <td>1</td>\n",
       "      <td>1</td>\n",
       "      <td>0</td>\n",
       "      <td>1</td>\n",
       "    </tr>\n",
       "    <tr>\n",
       "      <th>1</th>\n",
       "      <td>1</td>\n",
       "      <td>0</td>\n",
       "      <td>0</td>\n",
       "      <td>1</td>\n",
       "    </tr>\n",
       "    <tr>\n",
       "      <th>2</th>\n",
       "      <td>0</td>\n",
       "      <td>0</td>\n",
       "      <td>1</td>\n",
       "      <td>1</td>\n",
       "    </tr>\n",
       "    <tr>\n",
       "      <th>3</th>\n",
       "      <td>1</td>\n",
       "      <td>1</td>\n",
       "      <td>1</td>\n",
       "      <td>0</td>\n",
       "    </tr>\n",
       "    <tr>\n",
       "      <th>4</th>\n",
       "      <td>0</td>\n",
       "      <td>1</td>\n",
       "      <td>1</td>\n",
       "      <td>0</td>\n",
       "    </tr>\n",
       "  </tbody>\n",
       "</table>\n",
       "</div>"
      ],
      "text/plain": [
       "   Far_10miles  New_client  Parent_involved  Lesson_accepted\n",
       "0            1           1                0                1\n",
       "1            1           0                0                1\n",
       "2            0           0                1                1\n",
       "3            1           1                1                0\n",
       "4            0           1                1                0"
      ]
     },
     "execution_count": 3,
     "metadata": {},
     "output_type": "execute_result"
    }
   ],
   "source": [
    "data.head()"
   ]
  },
  {
   "cell_type": "code",
   "execution_count": 4,
   "id": "bb4fecd9",
   "metadata": {
    "scrolled": true
   },
   "outputs": [
    {
     "name": "stdout",
     "output_type": "stream",
     "text": [
      "# of samples:  30\n",
      "# of features:  3\n"
     ]
    }
   ],
   "source": [
    "n_samples = data.shape[0]\n",
    "n_features = data.shape[1] - 1\n",
    "\n",
    "print('# of samples: ', n_samples)\n",
    "print('# of features: ', n_features)"
   ]
  },
  {
   "cell_type": "code",
   "execution_count": 5,
   "id": "3cc76582",
   "metadata": {},
   "outputs": [],
   "source": [
    "# Convert data to numpy array and shuffle it\n",
    "data = np.array(data)\n",
    "np.random.shuffle(data)"
   ]
  },
  {
   "cell_type": "code",
   "execution_count": 6,
   "id": "eeae9a9f",
   "metadata": {},
   "outputs": [
    {
     "data": {
      "text/plain": [
       "array([[1, 0, 1, 0],\n",
       "       [1, 0, 0, 1],\n",
       "       [0, 0, 0, 0],\n",
       "       [0, 1, 0, 1]])"
      ]
     },
     "execution_count": 6,
     "metadata": {},
     "output_type": "execute_result"
    }
   ],
   "source": [
    "# Shuffle check\n",
    "data[0:4]"
   ]
  },
  {
   "cell_type": "code",
   "execution_count": 7,
   "id": "4fc509ca",
   "metadata": {},
   "outputs": [
    {
     "name": "stdout",
     "output_type": "stream",
     "text": [
      "20 10\n"
     ]
    }
   ],
   "source": [
    "# Divide into training and validation set\n",
    "data_train = data[0:20]\n",
    "data_valid = data[20:30]\n",
    "print(len(data_train), len(data_valid))"
   ]
  },
  {
   "cell_type": "code",
   "execution_count": 8,
   "id": "14ae2122",
   "metadata": {},
   "outputs": [],
   "source": [
    "# Divide into features and labels\n",
    "x_train = data_train[:,0:3] # training features\n",
    "y_train = data_train[:,3] # training labels\n",
    "\n",
    "x_valid = data_valid[:,0:3] # validation features\n",
    "y_valid = data_valid[:,3] # validation labels"
   ]
  },
  {
   "cell_type": "markdown",
   "id": "ca905cce",
   "metadata": {},
   "source": [
    "## TRAINING"
   ]
  },
  {
   "cell_type": "code",
   "execution_count": 9,
   "id": "0f4188e2",
   "metadata": {},
   "outputs": [],
   "source": [
    "# Activation function\n",
    "def unit_step_func(linear_output):\n",
    "    return np.where(linear_output > 0, 1, 0)"
   ]
  },
  {
   "cell_type": "code",
   "execution_count": 10,
   "id": "50bfaf94",
   "metadata": {},
   "outputs": [],
   "source": [
    "# Define function to make predictions based on the perceptron\n",
    "def predict(x, w, b):\n",
    "    linear_output = np.dot(x, w) + b\n",
    "    y_pred = unit_step_func(linear_output)\n",
    "    return y_pred\n",
    "\n",
    "# Define function to calculate accuracy of the model\n",
    "def accuracy(y_actual, y_pred):\n",
    "    return np.sum(y_actual == y_pred) / len(y_actual)"
   ]
  },
  {
   "cell_type": "code",
   "execution_count": 11,
   "id": "f9796648",
   "metadata": {},
   "outputs": [],
   "source": [
    "# Define function to train model\n",
    "def perceptron_training(x, y, iters, weights, bias, learning_rate):\n",
    "    for i in range(iters):\n",
    "        # loop through each sample, keeping the index of the sample and the data on the given sample\n",
    "        for idx, x_i in enumerate(x):\n",
    "\n",
    "            # sum over the dot product between sample and weights, add the bias\n",
    "            linear_output = np.dot(x_i, weights) + bias\n",
    "\n",
    "            # pass the linear output through the activation function to convert it into a binary value (the model's output)\n",
    "            y_pred = unit_step_func(linear_output)\n",
    "\n",
    "            # Perceptron update rule - calculate desired change in weights and update them\n",
    "            delta_w = learning_rate * (y[idx] - y_pred)\n",
    "            weights += delta_w * x_i\n",
    "            bias += delta_w\n",
    "         \n",
    "        if (i % 10) == 0:\n",
    "            preds = predict(x, weights, bias)\n",
    "            print(weights)\n",
    "            print(bias)\n",
    "            print(i, ': ', accuracy(y, preds))\n",
    "            print('----------')\n",
    "    preds = predict(x, weights, bias)\n",
    "    print(weights)\n",
    "    print(bias)\n",
    "    print(i, ': ', accuracy(y, preds))\n",
    "    print('----------')\n",
    "    \n",
    "    return weights, bias"
   ]
  },
  {
   "cell_type": "code",
   "execution_count": 12,
   "id": "7a499b49",
   "metadata": {},
   "outputs": [],
   "source": [
    "# Initialize weights and bias\n",
    "w1 = np.zeros(n_features)\n",
    "b1 = 0\n",
    "\n",
    "# Decide on learning rate\n",
    "lr = 0.01\n",
    "\n",
    "# Decide on number of training iterations (epochs)\n",
    "n_iters = 50"
   ]
  },
  {
   "cell_type": "code",
   "execution_count": 13,
   "id": "538d4996",
   "metadata": {},
   "outputs": [
    {
     "name": "stdout",
     "output_type": "stream",
     "text": [
      "[ 0.01 -0.02  0.  ]\n",
      "0.0\n",
      "0 :  0.55\n",
      "----------\n",
      "[ 0.   -0.02 -0.01]\n",
      "0.0\n",
      "10 :  0.5\n",
      "----------\n",
      "[ 0.   -0.02 -0.01]\n",
      "0.0\n",
      "20 :  0.5\n",
      "----------\n",
      "[ 0.   -0.02 -0.01]\n",
      "0.0\n",
      "30 :  0.5\n",
      "----------\n",
      "[ 0.   -0.02 -0.01]\n",
      "0.0\n",
      "40 :  0.5\n",
      "----------\n",
      "[ 0.   -0.02 -0.01]\n",
      "0.0\n",
      "49 :  0.5\n",
      "----------\n"
     ]
    }
   ],
   "source": [
    "# Train based on initial data\n",
    "w1, b1 = perceptron_training(x_train, y_train, n_iters, w1, b1, lr)"
   ]
  },
  {
   "cell_type": "code",
   "execution_count": 14,
   "id": "064eea5a",
   "metadata": {},
   "outputs": [
    {
     "name": "stdout",
     "output_type": "stream",
     "text": [
      "[0.0452133  0.01585881]\n",
      "0.11999999999999998\n",
      "0 :  0.975\n",
      "----------\n",
      "[0.06392119 0.05745938]\n",
      "0.26000000000000006\n",
      "10 :  1.0\n",
      "----------\n",
      "[0.06392119 0.05745938]\n",
      "0.26000000000000006\n",
      "20 :  1.0\n",
      "----------\n",
      "[0.06392119 0.05745938]\n",
      "0.26000000000000006\n",
      "30 :  1.0\n",
      "----------\n",
      "[0.06392119 0.05745938]\n",
      "0.26000000000000006\n",
      "40 :  1.0\n",
      "----------\n",
      "[0.06392119 0.05745938]\n",
      "0.26000000000000006\n",
      "49 :  1.0\n",
      "----------\n",
      "predictions [1 0 1 1 0 0 1 1 1 0 1 0 0 0 1 0 1 1 0 1 1 1 1 1 0 0 1 0 0 0]\n",
      "acc 1.0\n"
     ]
    },
    {
     "data": {
      "image/png": "[encoded data removed]",
      "text/plain": [
       "<Figure size 432x288 with 1 Axes>"
      ]
     },
     "metadata": {
      "needs_background": "light"
     },
     "output_type": "display_data"
    }
   ],
   "source": [
    "from sklearn import datasets\n",
    "from sklearn.model_selection import train_test_split\n",
    "import matplotlib.pyplot as plt\n",
    "\n",
    "X, y = datasets.make_blobs(n_samples=150, n_features=2, centers=2, cluster_std=1.05, random_state=2)\n",
    "X_train, X_test, y_train, y_test = train_test_split(X,y, test_size=0.2, random_state=123)\n",
    "\n",
    "w1 = np.zeros(2)\n",
    "\n",
    "w1, b1 = perceptron_training(X_train, y_train, n_iters, w1, b1, lr)\n",
    "predictions = predict(X_test, w1, b1)\n",
    "print(\"predictions\", predictions)\n",
    "\n",
    "print(\"acc\", accuracy(y_test, predictions))\n",
    "\n",
    "\n",
    "fig = plt.figure()\n",
    "ax = fig.add_subplot(1,1,1)\n",
    "plt.scatter(X_train[:,0], X_train[:,1],marker='o',c=y_train)\n",
    "\n",
    "x0_1 = np.amin(X_train[:,0])\n",
    "x0_2 = np.amax(X_train[:,0])\n",
    "\n",
    "x1_1 = (w1[0] * x0_1 - b1) / w1[1]\n",
    "x1_2 = (w1[0] * x0_2 - b1) / w1[1]\n",
    "\n",
    "ax.plot([x0_1, x0_2],[x1_1, x1_2], 'k')\n",
    "\n",
    "ymin = np.amin(X_train[:,1])\n",
    "ymax = np.amax(X_train[:,1])\n",
    "ax.set_ylim([ymin-3,ymax+3])\n",
    "\n",
    "plt.show()"
   ]
  },
  {
   "cell_type": "code",
   "execution_count": null,
   "id": "2f88a373",
   "metadata": {},
   "outputs": [],
   "source": []
  }
 ],
 "metadata": {
  "kernelspec": {
   "display_name": "Python 3 (ipykernel)",
   "language": "python",
   "name": "python3"
  },
  "language_info": {
   "codemirror_mode": {
    "name": "ipython",
    "version": 3
   },
   "file_extension": ".py",
   "mimetype": "text/x-python",
   "name": "python",
   "nbconvert_exporter": "python",
   "pygments_lexer": "ipython3",
   "version": "3.9.12"
  }
 },
 "nbformat": 4,
 "nbformat_minor": 5
}
